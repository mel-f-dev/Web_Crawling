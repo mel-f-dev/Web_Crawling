{
 "cells": [
  {
   "cell_type": "code",
   "execution_count": 1,
   "metadata": {},
   "outputs": [],
   "source": [
    "import requests\n",
    "import pandas as pd\n",
    "from bs4 import BeautifulSoup\n",
    "import time\n",
    "from selenium import webdriver"
   ]
  },
  {
   "cell_type": "code",
   "execution_count": null,
   "metadata": {},
   "outputs": [],
   "source": [
    "def NaverWebtoon(end_page=1):\n",
    "    base_url = 'https://comic.naver.com/webtoon/detail.nhn?titleId=626907&no={}&weekday=wed'\n",
    "    driver = webdriver.Chrome()\n",
    "    comment_url = 'https://comic.naver.com/comment/comment.nhn?titleId=626907&no={}#'\n",
    "    # 날짜, 평점\n",
    "    result = []\n",
    "    for page in range(1, end_page+1):\n",
    "        # url 불러오기\n",
    "        url = base_url.format(page)\n",
    "        c_url = comment_url.format(page)\n",
    "        res = requests.get(url)\n",
    "        driver.get(c_url)\n",
    "        c_box = driver.find_elements_by_css_selector('div.u_cbox_comment_box')\n",
    "        c_list = []\n",
    "        for i in range(c_box.__len__()):\n",
    "            try:\n",
    "                c_list.append(c_box[i].find_element_by_css_selector('div.u_cbox_comment_box span.u_cbox_contents').text)\n",
    "            except:\n",
    "                c_list.append(c_box[i].find_element_by_css_selector('div.u_cbox_comment_box span.u_cbox_cleanbot_contents').text)\n",
    "#           print(cList)\n",
    "        if res.status_code == 200:\n",
    "            soup = BeautifulSoup(res.text, 'lxml')\n",
    "            title = soup.select_one('div.view h3').get_text().strip()\n",
    "            point_list = soup.select_one('span#topPointTotalNumber').get_text().strip()\n",
    "            re_date = soup.select_one('dd.date').get_text().strip()\n",
    "            result.append([re_date, title, point_list, c_list])\n",
    "#           print(title, re_date, point_list, c_list)\n",
    "    print(result)\n",
    "#   print(result + cList)\n",
    "    filename = \"webtoon_{}.csv\".format(end_page) # 첫번째 줄에 랭크 카테고리, 두번째 줄에 날짜\n",
    "    df = pd.DataFrame(result, columns =['등록일', '제목', '평점', '베댓'])\n",
    "    # print(df)\n",
    "    df.to_csv(filename, index=False, encoding = 'UTF-8')\n",
    "    return filename\n",
    "if __name__=='__main__':\n",
    "    NaverWebtoon(end_page=276)"
   ]
  }
 ],
 "metadata": {
  "kernelspec": {
   "display_name": "Python 3",
   "language": "python",
   "name": "python3"
  },
  "language_info": {
   "codemirror_mode": {
    "name": "ipython",
    "version": 3
   },
   "file_extension": ".py",
   "mimetype": "text/x-python",
   "name": "python",
   "nbconvert_exporter": "python",
   "pygments_lexer": "ipython3",
   "version": "3.7.5"
  },
  "toc": {
   "base_numbering": 1,
   "nav_menu": {},
   "number_sections": true,
   "sideBar": true,
   "skip_h1_title": false,
   "title_cell": "Table of Contents",
   "title_sidebar": "Contents",
   "toc_cell": false,
   "toc_position": {},
   "toc_section_display": true,
   "toc_window_display": false
  },
  "varInspector": {
   "cols": {
    "lenName": 16,
    "lenType": 16,
    "lenVar": 40
   },
   "kernels_config": {
    "python": {
     "delete_cmd_postfix": "",
     "delete_cmd_prefix": "del ",
     "library": "var_list.py",
     "varRefreshCmd": "print(var_dic_list())"
    },
    "r": {
     "delete_cmd_postfix": ") ",
     "delete_cmd_prefix": "rm(",
     "library": "var_list.r",
     "varRefreshCmd": "cat(var_dic_list()) "
    }
   },
   "types_to_exclude": [
    "module",
    "function",
    "builtin_function_or_method",
    "instance",
    "_Feature"
   ],
   "window_display": false
  }
 },
 "nbformat": 4,
 "nbformat_minor": 2
}
